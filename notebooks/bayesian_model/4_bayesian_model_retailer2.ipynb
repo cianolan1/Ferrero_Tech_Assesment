{
 "cells": [
  {
   "cell_type": "code",
   "execution_count": 1,
   "metadata": {},
   "outputs": [
    {
     "name": "stderr",
     "output_type": "stream",
     "text": [
      "WARNING (pytensor.tensor.blas): Using NumPy C-API based implementation for BLAS functions.\n"
     ]
    }
   ],
   "source": [
    "import pymc as pm\n",
    "import numpy as np\n",
    "import pandas as pd\n",
    "from sklearn.model_selection import train_test_split\n",
    "from sklearn.metrics import mean_squared_error, mean_absolute_error, r2_score"
   ]
  },
  {
   "cell_type": "code",
   "execution_count": 22,
   "metadata": {},
   "outputs": [],
   "source": [
    "df = pd.read_csv('../../data/processed/processed_data_with_features.csv')\n",
    "df_retailer2 = df[df['retailer'] == 'retail2']\n",
    "X = df_retailer2.drop(columns=['quantity', 'retailer'])\n",
    "y = df_retailer2['quantity']\n"
   ]
  },
  {
   "cell_type": "code",
   "execution_count": 23,
   "metadata": {},
   "outputs": [
    {
     "name": "stdout",
     "output_type": "stream",
     "text": [
      "Data types in X_train after processing: float64    30\n",
      "bool        5\n",
      "int64       4\n",
      "Name: count, dtype: int64\n"
     ]
    }
   ],
   "source": [
    "# Split the data\n",
    "X_train, X_test, y_train, y_test = train_test_split(X, y, test_size=0.2, random_state=42)\n",
    "\n",
    "# Convert categorical columns to numeric (one-hot encoding)\n",
    "X_train = pd.get_dummies(X_train)\n",
    "X_test = pd.get_dummies(X_test)\n",
    "\n",
    "# Align columns in case train and test sets have different one-hot encoded columns\n",
    "X_train, X_test = X_train.align(X_test, join='left', axis=1, fill_value=0)\n",
    "\n",
    "# Ensure all columns are numeric to avoid dtype issues\n",
    "X_train = X_train.apply(pd.to_numeric, errors='coerce').fillna(0)\n",
    "X_test = X_test.apply(pd.to_numeric, errors='coerce').fillna(0)\n",
    "\n",
    "# Diagnostic: Check for any remaining non-numeric columns\n",
    "print(\"Data types in X_train after processing:\", X_train.dtypes.value_counts())"
   ]
  },
  {
   "cell_type": "code",
   "execution_count": 6,
   "metadata": {},
   "outputs": [
    {
     "name": "stdout",
     "output_type": "stream",
     "text": [
      "Data types in X_train after final conversion: float64    39\n",
      "Name: count, dtype: int64\n",
      "Data types in X_test after final conversion: float64    39\n",
      "Name: count, dtype: int64\n"
     ]
    },
    {
     "name": "stderr",
     "output_type": "stream",
     "text": [
      "Multiprocess sampling (2 chains in 2 jobs)\n",
      "CompoundStep\n",
      ">Metropolis: [intercept]\n",
      ">Metropolis: [sigma]\n",
      ">Metropolis: [coefs]\n"
     ]
    },
    {
     "data": {
      "application/vnd.jupyter.widget-view+json": {
       "model_id": "3f849133990b4156b99a802f2fa94ebd",
       "version_major": 2,
       "version_minor": 0
      },
      "text/plain": [
       "Output()"
      ]
     },
     "metadata": {},
     "output_type": "display_data"
    },
    {
     "name": "stderr",
     "output_type": "stream",
     "text": [
      "/home/cian/Ferrero_Tech_Assesment/new_venv/lib/python3.10/site-packages/pymc/step_methods/metropolis.py:285: RuntimeWarning: overflow encountered in exp\n",
      "  \"accept\": np.mean(np.exp(self.accept_rate_iter)),\n"
     ]
    },
    {
     "name": "stderr",
     "output_type": "stream",
     "text": [
      "/home/cian/Ferrero_Tech_Assesment/new_venv/lib/python3.10/site-packages/pymc/step_methods/metropolis.py:285: RuntimeWarning: overflow encountered in exp\n",
      "  \"accept\": np.mean(np.exp(self.accept_rate_iter)),\n"
     ]
    },
    {
     "data": {
      "text/html": [
       "<pre style=\"white-space:pre;overflow-x:auto;line-height:normal;font-family:Menlo,'DejaVu Sans Mono',consolas,'Courier New',monospace\"></pre>\n"
      ],
      "text/plain": []
     },
     "metadata": {},
     "output_type": "display_data"
    },
    {
     "name": "stderr",
     "output_type": "stream",
     "text": [
      "Sampling 2 chains for 500 tune and 500 draw iterations (1_000 + 1_000 draws total) took 56 seconds.\n",
      "We recommend running at least 4 chains for robust computation of convergence diagnostics\n",
      "The rhat statistic is larger than 1.01 for some parameters. This indicates problems during sampling. See https://arxiv.org/abs/1903.08008 for details\n",
      "The effective sample size per chain is smaller than 100 for some parameters.  A higher number is needed for reliable rhat and ess computation. See https://arxiv.org/abs/1903.08008 for details\n",
      "Sampling: [y_obs]\n"
     ]
    },
    {
     "data": {
      "application/vnd.jupyter.widget-view+json": {
       "model_id": "cda9c8c471ad41d0a18a3c1d1413c4af",
       "version_major": 2,
       "version_minor": 0
      },
      "text/plain": [
       "Output()"
      ]
     },
     "metadata": {},
     "output_type": "display_data"
    },
    {
     "data": {
      "text/html": [
       "<pre style=\"white-space:pre;overflow-x:auto;line-height:normal;font-family:Menlo,'DejaVu Sans Mono',consolas,'Courier New',monospace\"></pre>\n"
      ],
      "text/plain": []
     },
     "metadata": {},
     "output_type": "display_data"
    },
    {
     "ename": "KeyError",
     "evalue": "'y_obs'",
     "output_type": "error",
     "traceback": [
      "\u001b[0;31m---------------------------------------------------------------------------\u001b[0m",
      "\u001b[0;31mKeyError\u001b[0m                                  Traceback (most recent call last)",
      "Cell \u001b[0;32mIn[6], line 31\u001b[0m\n\u001b[1;32m     28\u001b[0m \u001b[38;5;28;01mwith\u001b[39;00m bayesian_model:\n\u001b[1;32m     29\u001b[0m     post_pred \u001b[38;5;241m=\u001b[39m pm\u001b[38;5;241m.\u001b[39msample_posterior_predictive(trace)\n\u001b[0;32m---> 31\u001b[0m y_pred \u001b[38;5;241m=\u001b[39m \u001b[43mpost_pred\u001b[49m\u001b[43m[\u001b[49m\u001b[38;5;124;43m'\u001b[39;49m\u001b[38;5;124;43my_obs\u001b[39;49m\u001b[38;5;124;43m'\u001b[39;49m\u001b[43m]\u001b[49m\u001b[38;5;241m.\u001b[39mmean(axis\u001b[38;5;241m=\u001b[39m\u001b[38;5;241m0\u001b[39m)\n\u001b[1;32m     33\u001b[0m \u001b[38;5;66;03m# Performance metrics\u001b[39;00m\n\u001b[1;32m     34\u001b[0m mse \u001b[38;5;241m=\u001b[39m mean_squared_error(y_test, y_pred)\n",
      "File \u001b[0;32m~/Ferrero_Tech_Assesment/new_venv/lib/python3.10/site-packages/arviz/data/inference_data.py:266\u001b[0m, in \u001b[0;36mInferenceData.__getitem__\u001b[0;34m(self, key)\u001b[0m\n\u001b[1;32m    264\u001b[0m \u001b[38;5;250m\u001b[39m\u001b[38;5;124;03m\"\"\"Get item by key.\"\"\"\u001b[39;00m\n\u001b[1;32m    265\u001b[0m \u001b[38;5;28;01mif\u001b[39;00m key \u001b[38;5;129;01mnot\u001b[39;00m \u001b[38;5;129;01min\u001b[39;00m \u001b[38;5;28mself\u001b[39m\u001b[38;5;241m.\u001b[39m_groups_all:\n\u001b[0;32m--> 266\u001b[0m     \u001b[38;5;28;01mraise\u001b[39;00m \u001b[38;5;167;01mKeyError\u001b[39;00m(key)\n\u001b[1;32m    267\u001b[0m \u001b[38;5;28;01mreturn\u001b[39;00m \u001b[38;5;28mgetattr\u001b[39m(\u001b[38;5;28mself\u001b[39m, key)\n",
      "\u001b[0;31mKeyError\u001b[0m: 'y_obs'"
     ]
    }
   ],
   "source": [
    "# Convert all columns in X_train and X_test to float64\n",
    "X_train = X_train.astype(float)\n",
    "X_test = X_test.astype(float)\n",
    "\n",
    "# Verify data types\n",
    "print(\"Data types in X_train after final conversion:\", X_train.dtypes.value_counts())\n",
    "print(\"Data types in X_test after final conversion:\", X_test.dtypes.value_counts())\n",
    "\n",
    "with pm.Model() as bayesian_model:\n",
    "    # Priors\n",
    "    intercept = pm.Normal('intercept', mu=10, sigma=2)\n",
    "    sigma = pm.HalfNormal('sigma', sigma=1)\n",
    "\n",
    "    # Define coefficients for each feature\n",
    "    coefs = pm.Normal('coefs', mu=0, sigma=1, shape=X_train.shape[1])\n",
    "\n",
    "    # Linear regression model\n",
    "    y_pred = intercept + pm.math.dot(X_train.values, coefs)\n",
    "\n",
    "    # Likelihood\n",
    "    y_obs = pm.Normal('y_obs', mu=y_pred, sigma=sigma, observed=y_train.values)\n",
    "\n",
    "    # Sampling with reduced draws and chains for speed, using the Metropolis step method\n",
    "    step = pm.Metropolis()\n",
    "    trace = pm.sample(draws=500, tune=500, chains=2, step=step)\n",
    "\n",
    "# Predictions\n",
    "with bayesian_model:\n",
    "    post_pred = pm.sample_posterior_predictive(trace)\n",
    "\n",
    "y_pred = post_pred['y_obs'].mean(axis=0)\n",
    "\n",
    "# Performance metrics\n",
    "mse = mean_squared_error(y_test, y_pred)\n",
    "mae = mean_absolute_error(y_test, y_pred)\n",
    "r2 = r2_score(y_test, y_pred)\n",
    "\n",
    "print(f\"Bayesian Model - Mean Squared Error (MSE): {mse}\")\n",
    "print(f\"Bayesian Model - Mean Absolute Error (MAE): {mae}\")\n",
    "print(f\"Bayesian Model - R-squared (R²): {r2}\")\n",
    "\n"
   ]
  },
  {
   "cell_type": "code",
   "execution_count": 11,
   "metadata": {},
   "outputs": [
    {
     "name": "stderr",
     "output_type": "stream",
     "text": [
      "Sampling: [y_obs]\n"
     ]
    },
    {
     "data": {
      "application/vnd.jupyter.widget-view+json": {
       "model_id": "8154b1240cc641c28c48a7b45eae9f0f",
       "version_major": 2,
       "version_minor": 0
      },
      "text/plain": [
       "Output()"
      ]
     },
     "metadata": {},
     "output_type": "display_data"
    },
    {
     "data": {
      "text/html": [
       "<pre style=\"white-space:pre;overflow-x:auto;line-height:normal;font-family:Menlo,'DejaVu Sans Mono',consolas,'Courier New',monospace\"></pre>\n"
      ],
      "text/plain": []
     },
     "metadata": {},
     "output_type": "display_data"
    },
    {
     "ename": "KeyError",
     "evalue": "'y_obs'",
     "output_type": "error",
     "traceback": [
      "\u001b[0;31m---------------------------------------------------------------------------\u001b[0m",
      "\u001b[0;31mKeyError\u001b[0m                                  Traceback (most recent call last)",
      "Cell \u001b[0;32mIn[11], line 6\u001b[0m\n\u001b[1;32m      3\u001b[0m     post_pred \u001b[38;5;241m=\u001b[39m pm\u001b[38;5;241m.\u001b[39msample_posterior_predictive(trace, var_names\u001b[38;5;241m=\u001b[39m[\u001b[38;5;124m'\u001b[39m\u001b[38;5;124my_obs\u001b[39m\u001b[38;5;124m'\u001b[39m])\n\u001b[1;32m      5\u001b[0m \u001b[38;5;66;03m# Extract and match the length of y_pred to y_test\u001b[39;00m\n\u001b[0;32m----> 6\u001b[0m y_pred_samples \u001b[38;5;241m=\u001b[39m \u001b[43mpost_pred\u001b[49m\u001b[43m[\u001b[49m\u001b[38;5;124;43m'\u001b[39;49m\u001b[38;5;124;43my_obs\u001b[39;49m\u001b[38;5;124;43m'\u001b[39;49m\u001b[43m]\u001b[49m\n\u001b[1;32m      7\u001b[0m y_pred \u001b[38;5;241m=\u001b[39m y_pred_samples\u001b[38;5;241m.\u001b[39mmean(axis\u001b[38;5;241m=\u001b[39m\u001b[38;5;241m0\u001b[39m)[:\u001b[38;5;28mlen\u001b[39m(y_test)]\n\u001b[1;32m      9\u001b[0m \u001b[38;5;66;03m# Performance metrics\u001b[39;00m\n",
      "File \u001b[0;32m~/Ferrero_Tech_Assesment/new_venv/lib/python3.10/site-packages/arviz/data/inference_data.py:266\u001b[0m, in \u001b[0;36mInferenceData.__getitem__\u001b[0;34m(self, key)\u001b[0m\n\u001b[1;32m    264\u001b[0m \u001b[38;5;250m\u001b[39m\u001b[38;5;124;03m\"\"\"Get item by key.\"\"\"\u001b[39;00m\n\u001b[1;32m    265\u001b[0m \u001b[38;5;28;01mif\u001b[39;00m key \u001b[38;5;129;01mnot\u001b[39;00m \u001b[38;5;129;01min\u001b[39;00m \u001b[38;5;28mself\u001b[39m\u001b[38;5;241m.\u001b[39m_groups_all:\n\u001b[0;32m--> 266\u001b[0m     \u001b[38;5;28;01mraise\u001b[39;00m \u001b[38;5;167;01mKeyError\u001b[39;00m(key)\n\u001b[1;32m    267\u001b[0m \u001b[38;5;28;01mreturn\u001b[39;00m \u001b[38;5;28mgetattr\u001b[39m(\u001b[38;5;28mself\u001b[39m, key)\n",
      "\u001b[0;31mKeyError\u001b[0m: 'y_obs'"
     ]
    }
   ],
   "source": [
    "# Generate posterior predictive samples\n",
    "with bayesian_model:\n",
    "    post_pred = pm.sample_posterior_predictive(trace, var_names=['y_obs'])\n",
    "\n",
    "# Extract and match the length of y_pred to y_test\n",
    "y_pred_samples = post_pred['y_obs']\n",
    "y_pred = y_pred_samples.mean(axis=0)[:len(y_test)]\n",
    "\n",
    "# Performance metrics\n",
    "mse = mean_squared_error(y_test, y_pred)\n",
    "mae = mean_absolute_error(y_test, y_pred)\n",
    "r2 = r2_score(y_test, y_pred)\n",
    "\n",
    "print(f\"Bayesian Model - Mean Squared Error (MSE): {mse}\")\n",
    "print(f\"Bayesian Model - Mean Absolute Error (MAE): {mae}\")\n",
    "print(f\"Bayesian Model - R-squared (R²): {r2}\")\n"
   ]
  },
  {
   "cell_type": "code",
   "execution_count": 12,
   "metadata": {},
   "outputs": [
    {
     "name": "stdout",
     "output_type": "stream",
     "text": [
      "Available keys in posterior predictive sample: KeysView(Inference data with groups:\n",
      "\t> posterior_predictive\n",
      "\t> observed_data)\n"
     ]
    }
   ],
   "source": [
    "# Display available keys in posterior predictive samples\n",
    "print(\"Available keys in posterior predictive sample:\", post_pred.keys())\n"
   ]
  },
  {
   "cell_type": "code",
   "execution_count": 17,
   "metadata": {},
   "outputs": [
    {
     "name": "stderr",
     "output_type": "stream",
     "text": [
      "Sampling: [y_obs]\n"
     ]
    },
    {
     "data": {
      "application/vnd.jupyter.widget-view+json": {
       "model_id": "e3c20c3c3090426b90afcbfefb66c94b",
       "version_major": 2,
       "version_minor": 0
      },
      "text/plain": [
       "Output()"
      ]
     },
     "metadata": {},
     "output_type": "display_data"
    },
    {
     "data": {
      "text/html": [
       "<pre style=\"white-space:pre;overflow-x:auto;line-height:normal;font-family:Menlo,'DejaVu Sans Mono',consolas,'Courier New',monospace\"></pre>\n"
      ],
      "text/plain": []
     },
     "metadata": {},
     "output_type": "display_data"
    },
    {
     "name": "stdout",
     "output_type": "stream",
     "text": [
      "Error: y_test and y_pred lengths are still inconsistent after adjustment.\n"
     ]
    }
   ],
   "source": [
    "# Ensure posterior predictive samples and retrieve predictions\n",
    "with bayesian_model:\n",
    "    post_pred = pm.sample_posterior_predictive(trace)\n",
    "\n",
    "# Retrieve y_pred_samples as a flattened array if necessary\n",
    "y_pred_samples = post_pred['posterior_predictive']['y_obs']\n",
    "\n",
    "# Trim or expand y_test to match y_pred_samples shape\n",
    "n_samples = y_pred_samples.shape[0]\n",
    "y_test_adjusted = y_test[:n_samples]\n",
    "\n",
    "# Calculate mean prediction across samples\n",
    "y_pred = y_pred_samples.mean(axis=0)\n",
    "\n",
    "# Check for length consistency before calculating metrics\n",
    "if len(y_test_adjusted) == len(y_pred):\n",
    "    # Performance metrics using the adjusted y_test\n",
    "    mse = mean_squared_error(y_test_adjusted, y_pred)\n",
    "    mae = mean_absolute_error(y_test_adjusted, y_pred)\n",
    "    r2 = r2_score(y_test_adjusted, y_pred)\n",
    "\n",
    "    print(f\"Bayesian Model - Mean Squared Error (MSE): {mse}\")\n",
    "    print(f\"Bayesian Model - Mean Absolute Error (MAE): {mae}\")\n",
    "    print(f\"Bayesian Model - R-squared (R²): {r2}\")\n",
    "else:\n",
    "    print(\"Error: y_test and y_pred lengths are still inconsistent after adjustment.\")\n"
   ]
  },
  {
   "cell_type": "code",
   "execution_count": 18,
   "metadata": {},
   "outputs": [
    {
     "name": "stderr",
     "output_type": "stream",
     "text": [
      "Sampling: [y_obs]\n"
     ]
    },
    {
     "data": {
      "application/vnd.jupyter.widget-view+json": {
       "model_id": "86846a99758146fc95a77148c614d27a",
       "version_major": 2,
       "version_minor": 0
      },
      "text/plain": [
       "Output()"
      ]
     },
     "metadata": {},
     "output_type": "display_data"
    },
    {
     "data": {
      "text/html": [
       "<pre style=\"white-space:pre;overflow-x:auto;line-height:normal;font-family:Menlo,'DejaVu Sans Mono',consolas,'Courier New',monospace\"></pre>\n"
      ],
      "text/plain": []
     },
     "metadata": {},
     "output_type": "display_data"
    },
    {
     "name": "stdout",
     "output_type": "stream",
     "text": [
      "Shape of y_pred_samples: (2, 500, 2912)\n",
      "Length of y_pred_samples (flattened): 2912000\n",
      "Shape of y_test: (728,)\n",
      "Length of y_test: 728\n",
      "\n",
      "First few values in y_pred_samples: <xarray.DataArray 'y_obs' (chain: 2, draw: 500, y_obs_dim_2: 2912)> Size: 23MB\n",
      "array([[[3.30690686, 1.95536389, 3.19558551, ..., 2.17847187,\n",
      "         3.03065838, 2.07913835],\n",
      "        [2.67406683, 3.08800952, 1.35047075, ..., 1.51752574,\n",
      "         2.22007913, 1.38032075],\n",
      "        [3.32318334, 3.47987353, 2.02704247, ..., 2.81532151,\n",
      "         2.05349423, 1.21523731],\n",
      "        ...,\n",
      "        [2.96711413, 2.4549714 , 1.23077835, ..., 2.45742247,\n",
      "         2.42744784, 2.2728746 ],\n",
      "        [1.94756812, 2.71131039, 2.16711761, ..., 2.52207523,\n",
      "         2.05910402, 2.12224614],\n",
      "        [2.7489549 , 2.44574212, 1.97507451, ..., 2.19150109,\n",
      "         2.41176208, 1.78427977]],\n",
      "\n",
      "       [[2.82392109, 1.99720588, 1.85623253, ..., 2.0576151 ,\n",
      "         1.99541197, 2.30666961],\n",
      "        [2.76388329, 2.54667583, 1.51051441, ..., 2.17321307,\n",
      "         2.06853221, 1.88950515],\n",
      "        [2.47239611, 3.2523217 , 2.09125944, ..., 2.48844736,\n",
      "         1.75365182, 2.20122098],\n",
      "        ...,\n",
      "        [2.46247193, 2.39784083, 2.31555591, ..., 2.23337039,\n",
      "         2.50309573, 2.8512524 ],\n",
      "        [2.5473675 , 2.60572684, 2.53705503, ..., 2.30955735,\n",
      "         2.64483822, 2.05445495],\n",
      "        [2.71182332, 2.17210997, 2.50771167, ..., 2.41691558,\n",
      "         2.6145702 , 2.25754402]]])\n",
      "Coordinates:\n",
      "  * chain        (chain) int64 16B 0 1\n",
      "  * draw         (draw) int64 4kB 0 1 2 3 4 5 6 ... 493 494 495 496 497 498 499\n",
      "  * y_obs_dim_2  (y_obs_dim_2) int64 23kB 0 1 2 3 4 ... 2907 2908 2909 2910 2911\n",
      "First few values in y_test: 5615    2.708853\n",
      "8125    2.514577\n",
      "7040    2.554629\n",
      "5498    2.149674\n",
      "6268    2.614526\n",
      "Name: quantity, dtype: float64\n"
     ]
    }
   ],
   "source": [
    "# Ensure posterior predictive samples\n",
    "with bayesian_model:\n",
    "    post_pred = pm.sample_posterior_predictive(trace)\n",
    "\n",
    "# Retrieve y_pred_samples and y_test to check their shapes and lengths\n",
    "y_pred_samples = post_pred['posterior_predictive']['y_obs']  # Adjust the key name if necessary\n",
    "\n",
    "# Print shapes and lengths for debugging\n",
    "print(\"Shape of y_pred_samples:\", y_pred_samples.shape)\n",
    "print(\"Length of y_pred_samples (flattened):\", y_pred_samples.size)\n",
    "print(\"Shape of y_test:\", y_test.shape)\n",
    "print(\"Length of y_test:\", len(y_test))\n",
    "\n",
    "# Display first few values to further inspect if needed\n",
    "print(\"\\nFirst few values in y_pred_samples:\", y_pred_samples[:5])\n",
    "print(\"First few values in y_test:\", y_test[:5])\n"
   ]
  },
  {
   "cell_type": "code",
   "execution_count": 20,
   "metadata": {},
   "outputs": [
    {
     "name": "stderr",
     "output_type": "stream",
     "text": [
      "Sampling: [y_obs]\n"
     ]
    },
    {
     "data": {
      "application/vnd.jupyter.widget-view+json": {
       "model_id": "b30e72d15c964c23b150a6579f621bd1",
       "version_major": 2,
       "version_minor": 0
      },
      "text/plain": [
       "Output()"
      ]
     },
     "metadata": {},
     "output_type": "display_data"
    },
    {
     "data": {
      "text/html": [
       "<pre style=\"white-space:pre;overflow-x:auto;line-height:normal;font-family:Menlo,'DejaVu Sans Mono',consolas,'Courier New',monospace\"></pre>\n"
      ],
      "text/plain": []
     },
     "metadata": {},
     "output_type": "display_data"
    },
    {
     "name": "stdout",
     "output_type": "stream",
     "text": [
      "Bayesian Model - Mean Squared Error (MSE): 0.16286788909102032\n",
      "Bayesian Model - Mean Absolute Error (MAE): 0.31773397915293367\n",
      "Bayesian Model - R-squared (R²): -0.2749402148627538\n"
     ]
    }
   ],
   "source": [
    "# Redefine posterior predictive sampling, focused on X_test\n",
    "with bayesian_model:\n",
    "    # Pass in `X_test` for posterior predictions only for the test set\n",
    "    post_pred_test = pm.sample_posterior_predictive(trace, var_names=['y_obs'], random_seed=42)\n",
    "\n",
    "# Select the dimension for y_test in predictions and calculate the mean across chains and draws\n",
    "y_pred_samples = post_pred_test['posterior_predictive']['y_obs']\n",
    "y_pred = y_pred_samples.mean(axis=(0, 1))[:len(y_test)]  # Mean over chains and draws\n",
    "\n",
    "# Performance metrics - matching length to y_test\n",
    "mse = mean_squared_error(y_test, y_pred)\n",
    "mae = mean_absolute_error(y_test, y_pred)\n",
    "r2 = r2_score(y_test, y_pred)\n",
    "\n",
    "print(f\"Bayesian Model - Mean Squared Error (MSE): {mse}\")\n",
    "print(f\"Bayesian Model - Mean Absolute Error (MAE): {mae}\")\n",
    "print(f\"Bayesian Model - R-squared (R²): {r2}\")\n"
   ]
  }
 ],
 "metadata": {
  "kernelspec": {
   "display_name": "Python (new_venv)",
   "language": "python",
   "name": "new_venv"
  },
  "language_info": {
   "codemirror_mode": {
    "name": "ipython",
    "version": 3
   },
   "file_extension": ".py",
   "mimetype": "text/x-python",
   "name": "python",
   "nbconvert_exporter": "python",
   "pygments_lexer": "ipython3",
   "version": "3.10.12"
  }
 },
 "nbformat": 4,
 "nbformat_minor": 2
}
